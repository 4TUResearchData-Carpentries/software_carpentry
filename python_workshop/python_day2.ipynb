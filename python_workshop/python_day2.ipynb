{
 "cells": [
  {
   "cell_type": "markdown",
   "id": "c3f224d0",
   "metadata": {},
   "source": [
    "# Python part 2\n"
   ]
  },
  {
   "cell_type": "markdown",
   "id": "ab2ef1c5",
   "metadata": {},
   "source": [
    "# 5. Making choices\n",
    "\n",
    "In our last lesson, we discovered something suspicious was going on in our inflammation data by drawing some plots. How can we use Python to automatically recognize the different features we saw, and take a different action for each? In this section, we’ll learn how to write code that runs only when certain conditions are true."
   ]
  },
  {
   "cell_type": "code",
   "execution_count": 1,
   "id": "05563890",
   "metadata": {},
   "outputs": [
    {
     "name": "stdout",
     "output_type": "stream",
     "text": [
      "not greater\n",
      "done\n"
     ]
    }
   ],
   "source": [
    "# if-statement to check whether number is greater than 100\n",
    "num = 37\n",
    "if num > 100: # notice colon\n",
    "    print('greater') # notice indentation\n",
    "else:\n",
    "    print('not greater')\n",
    "print('done')"
   ]
  },
  {
   "cell_type": "markdown",
   "id": "7b0fccd9",
   "metadata": {},
   "source": [
    "Conditional statements don’t have to include an else. If there isn’t one, Python simply does nothing if the test is false:"
   ]
  },
  {
   "cell_type": "code",
   "execution_count": 2,
   "id": "fb5c49aa",
   "metadata": {},
   "outputs": [
    {
     "name": "stdout",
     "output_type": "stream",
     "text": [
      "before conditional\n",
      "after conditional\n"
     ]
    }
   ],
   "source": [
    "# Conditional statements don't have to include an `else`\n",
    "num = 54\n",
    "print('before conditional')\n",
    "if num > 100:\n",
    "    print(num, 'is greater than 100')\n",
    "print('after conditional')"
   ]
  },
  {
   "cell_type": "markdown",
   "id": "18e219ba",
   "metadata": {},
   "source": [
    "Consider conditional statements carefully to check which conditions are considered and you would like to consider. In the above example, `num < 100` is not triggered. Best practice to "
   ]
  },
  {
   "cell_type": "code",
   "execution_count": 3,
   "id": "921d4160",
   "metadata": {},
   "outputs": [
    {
     "name": "stdout",
     "output_type": "stream",
     "text": [
      "-3 is negative\n"
     ]
    }
   ],
   "source": [
    "# Chain multiple if-statements\n",
    "num = -3\n",
    "\n",
    "if num > 0:\n",
    "    print(num, 'is positive')\n",
    "elif num == 0: # To test equality, we use a double equals sign, rather than single for assigning values\n",
    "    print(num, 'is zero')\n",
    "else:\n",
    "    print(num, 'is negative')\n"
   ]
  },
  {
   "cell_type": "code",
   "execution_count": 4,
   "id": "61f2221a",
   "metadata": {},
   "outputs": [
    {
     "name": "stdout",
     "output_type": "stream",
     "text": [
      "False\n",
      "True\n"
     ]
    }
   ],
   "source": [
    "# Optional: Difference between == and =\n",
    "print(num == 4)\n",
    "num = 4 \n",
    "print(num == 4)"
   ]
  },
  {
   "cell_type": "code",
   "execution_count": 5,
   "id": "ac0b0a29",
   "metadata": {},
   "outputs": [
    {
     "data": {
      "text/plain": [
       "bool"
      ]
     },
     "execution_count": 5,
     "metadata": {},
     "output_type": "execute_result"
    }
   ],
   "source": [
    "# True and False are special values in Python\n",
    "type(num == 4)"
   ]
  },
  {
   "cell_type": "markdown",
   "id": "e8ff83c9",
   "metadata": {},
   "source": [
    "We can also combine tests using `and` and `or`. `and` is only true if both parts are true:"
   ]
  },
  {
   "cell_type": "code",
   "execution_count": 6,
   "id": "fc591d59",
   "metadata": {},
   "outputs": [
    {
     "name": "stdout",
     "output_type": "stream",
     "text": [
      "at least one part is false\n"
     ]
    }
   ],
   "source": [
    "# Combine comparisons with 'and'\n",
    "if (1 > 0) and (-1 >= 0): # best practice to use parentheses\n",
    "    print('both parts are true')\n",
    "else:\n",
    "    print('at least one part is false')"
   ]
  },
  {
   "cell_type": "code",
   "execution_count": 7,
   "id": "153e91db",
   "metadata": {},
   "outputs": [
    {
     "name": "stdout",
     "output_type": "stream",
     "text": [
      "at least one test is true\n"
     ]
    }
   ],
   "source": [
    "# Combine with 'or'\n",
    "if (1 > 0) or (-1 >= 0):\n",
    "    print('at least one test is true')"
   ]
  },
  {
   "cell_type": "markdown",
   "id": "93653384",
   "metadata": {},
   "source": [
    "## Checking our Data\n",
    "\n",
    "1. Let's rerun the `inflammation_analysis.ipynb` \n",
    "1. Discuss data \n",
    "\n",
    "Let's catch the suspicious data"
   ]
  },
  {
   "cell_type": "markdown",
   "id": "e1237c33",
   "metadata": {},
   "source": [
    "From the first couple of plots, we saw that maximum daily inflammation exhibits a strange behavior and raises one unit a day. Wouldn’t it be a good idea to detect such behavior and report it as suspicious? Let’s do that! However, instead of checking every single day of the study, let’s merely check if maximum inflammation in the beginning (day 0) and in the middle (day 20) of the study are equal to the corresponding day numbers.\n",
    "\n",
    "*Question: What alternative approach could we have taken?*\n",
    "- Use a for-loop to check each day separately\n",
    "- Use `numpy.diff()` to check whether each value equals to 1"
   ]
  },
  {
   "cell_type": "code",
   "execution_count": 8,
   "id": "174432a1",
   "metadata": {},
   "outputs": [
    {
     "name": "stdout",
     "output_type": "stream",
     "text": [
      "[ 0.  1.  2.  3.  4.  5.  6.  7.  8.  9. 10. 11. 12. 13. 14. 15. 16. 17.\n",
      " 18. 19. 20. 19. 18. 17. 16. 15. 14. 13. 12. 11. 10.  9.  8.  7.  6.  5.\n",
      "  4.  3.  2.  1.]\n"
     ]
    }
   ],
   "source": [
    "import numpy\n",
    "\n",
    "# Let's inspect max values of the first dataset\n",
    "data = numpy.loadtxt(fname='data/inflammation-01.csv', delimiter=',')\n",
    "\n",
    "max_inflammation = numpy.max(data, axis=0)\n",
    "print(max_inflammation)"
   ]
  },
  {
   "cell_type": "code",
   "execution_count": 9,
   "id": "9a4cec1a",
   "metadata": {},
   "outputs": [
    {
     "name": "stdout",
     "output_type": "stream",
     "text": [
      "Suspicious looking maxima!\n"
     ]
    }
   ],
   "source": [
    "# Let use day_0 == 0 and day_20 == 20\n",
    "if (max_inflammation[0] == 0) and (max_inflammation[20] == 20):\n",
    "    print('Suspicious looking maxima!')"
   ]
  },
  {
   "cell_type": "code",
   "execution_count": 10,
   "id": "9685eda6",
   "metadata": {},
   "outputs": [
    {
     "name": "stdout",
     "output_type": "stream",
     "text": [
      "The series is monotonically increasing\n"
     ]
    }
   ],
   "source": [
    "# Example alternative solution\n",
    "if all(numpy.diff(max_inflammation[:20])) == 1:\n",
    "    print(\"The series is monotonically increasing\")\n",
    "else:\n",
    "    print(\"The series is not monotonically increasing\")"
   ]
  },
  {
   "cell_type": "markdown",
   "id": "88b1dece",
   "metadata": {},
   "source": [
    "We also saw a different problem in the third dataset; the minima per day were all zero (looks like a healthy person snuck into our study)."
   ]
  },
  {
   "cell_type": "code",
   "execution_count": 11,
   "id": "45c16596",
   "metadata": {},
   "outputs": [
    {
     "name": "stdout",
     "output_type": "stream",
     "text": [
      "[0. 0. 0. 0. 0. 0. 0. 0. 0. 0. 0. 0. 0. 0. 0. 0. 0. 0. 0. 0. 0. 0. 0. 0.\n",
      " 0. 0. 0. 0. 0. 0. 0. 0. 0. 0. 0. 0. 0. 0. 0. 0.]\n"
     ]
    }
   ],
   "source": [
    "data = numpy.loadtxt(fname='data/inflammation-03.csv', delimiter=',')\n",
    "\n",
    "min_inflammation = numpy.min(data, axis=0)\n",
    "print(min_inflammation)"
   ]
  },
  {
   "cell_type": "code",
   "execution_count": 12,
   "id": "be4766f1",
   "metadata": {},
   "outputs": [
    {
     "name": "stdout",
     "output_type": "stream",
     "text": [
      "Minima add up to zero\n"
     ]
    }
   ],
   "source": [
    "# Let's use sum == 0\n",
    "if numpy.sum(min_inflammation) == 0:\n",
    "    print('Minima add up to zero')"
   ]
  },
  {
   "cell_type": "markdown",
   "id": "27784aa8",
   "metadata": {},
   "source": [
    "We can check both conditions with an `elif` condition"
   ]
  },
  {
   "cell_type": "markdown",
   "id": "d14422a3",
   "metadata": {},
   "source": [
    "### Optional: Let's test all our datasets\n",
    "\n",
    "1. Find files\n",
    "1. Create for-loop over filenames\n",
    "1. Load data\n",
    "1. Test data"
   ]
  },
  {
   "cell_type": "code",
   "execution_count": 13,
   "id": "6e539bbe",
   "metadata": {},
   "outputs": [
    {
     "name": "stdout",
     "output_type": "stream",
     "text": [
      "Suspicious looking maxima in: data\\inflammation-01.csv\n",
      "Suspicious looking maxima in: data\\inflammation-02.csv\n",
      "Minima add up to zero in: data\\inflammation-03.csv\n",
      "Suspicious looking maxima in: data\\inflammation-04.csv\n",
      "Suspicious looking maxima in: data\\inflammation-05.csv\n",
      "Suspicious looking maxima in: data\\inflammation-06.csv\n",
      "Suspicious looking maxima in: data\\inflammation-07.csv\n",
      "Minima add up to zero in: data\\inflammation-08.csv\n",
      "Suspicious looking maxima in: data\\inflammation-09.csv\n",
      "Suspicious looking maxima in: data\\inflammation-10.csv\n",
      "Minima add up to zero in: data\\inflammation-11.csv\n",
      "Suspicious looking maxima in: data\\inflammation-12.csv\n"
     ]
    }
   ],
   "source": [
    "import glob\n",
    "import numpy\n",
    "\n",
    "filenames = sorted(glob.glob('data/inflammation*.csv'))\n",
    "for filename in filenames:\n",
    "    data = numpy.loadtxt(fname=filename, delimiter=',')\n",
    "    \n",
    "    # Data to test\n",
    "    max_inflammation = numpy.max(data, axis=0)\n",
    "    min_inflammation = numpy.min(data, axis=0)\n",
    "    \n",
    "    if (max_inflammation[0] == 0) and (max_inflammation[20] == 20):\n",
    "        print('Suspicious looking maxima in:', filename) \n",
    "    elif numpy.sum(min_inflammation) == 0:\n",
    "        print('Minima add up to zero in:', filename) \n",
    "    else:\n",
    "        print(filename, ' looks OK') "
   ]
  },
  {
   "cell_type": "markdown",
   "id": "2d5b5020",
   "metadata": {},
   "source": [
    "In this way, we have asked Python to do something different depending on the condition of our data. Here we printed messages in all cases, but we could also imagine not using the `else` catch-all so that messages are only printed when something is wrong, freeing us from having to manually examine every plot for features we’ve seen before."
   ]
  },
  {
   "cell_type": "markdown",
   "id": "0f13c0e4",
   "metadata": {},
   "source": [
    "# 6. Creating functions\n",
    "\n",
    "\n",
    "At this point, we’ve written code to \n",
    "- draw some interesting features in our inflammation data\n",
    "- loop over all our data files to quickly draw these plots for each of them\n",
    "- have Python make decisions based on what it sees in our data. \n",
    "\n",
    "But, our code is getting pretty long and complicated; what if we had thousands of datasets, and didn’t want to generate a figure for every single one?\n",
    "\n",
    "Cutting and pasting it is going to make our code get very long and very repetitive, very quickly. We’d like a way to package our code so that it is easier to reuse, and Python provides for this by letting us define things called `functions` — a shorthand way of re-executing longer pieces of code. Let’s start by defining a function `fahr_to_celsius` that converts temperatures from Fahrenheit to Celsius:"
   ]
  },
  {
   "cell_type": "code",
   "execution_count": 14,
   "id": "d9d9b330",
   "metadata": {},
   "outputs": [],
   "source": [
    "# Simple example function to convert Fahrenheit to Celsius\n",
    "def fahr_to_celsius(temp_F):\n",
    "    temp_C = (temp_F - 32) * (5 / 9)\n",
    "    return temp_C"
   ]
  },
  {
   "cell_type": "markdown",
   "id": "1857e90f",
   "metadata": {},
   "source": [
    "Let’s try running our function. This command should call our function, using “32” as the input and return the function value. In fact, calling our own function is no different from calling any other function:"
   ]
  },
  {
   "cell_type": "code",
   "execution_count": 15,
   "id": "3b416a31",
   "metadata": {},
   "outputs": [
    {
     "data": {
      "text/plain": [
       "0.0"
      ]
     },
     "execution_count": 15,
     "metadata": {},
     "output_type": "execute_result"
    }
   ],
   "source": [
    "fahr_to_celsius(32)"
   ]
  },
  {
   "cell_type": "code",
   "execution_count": 16,
   "id": "61356035",
   "metadata": {},
   "outputs": [
    {
     "name": "stdout",
     "output_type": "stream",
     "text": [
      "freezing point of water: 0.0 C\n",
      "boiling point of water: 100.0 C\n"
     ]
    }
   ],
   "source": [
    "print('freezing point of water:', fahr_to_celsius(32), 'C')\n",
    "print('boiling point of water:', fahr_to_celsius(212), 'C')"
   ]
  },
  {
   "cell_type": "markdown",
   "id": "5a1436d1",
   "metadata": {},
   "source": [
    "### Composing functions\n",
    "\n",
    "Now that we’ve seen how to turn Fahrenheit into Celsius, we can also write the function to turn Celsius into Kelvin:"
   ]
  },
  {
   "cell_type": "code",
   "execution_count": 17,
   "id": "2edc2c06",
   "metadata": {},
   "outputs": [],
   "source": [
    "# Second example to convert Celsius to Kelvin\n",
    "def celsius_to_kelvin(temp_C):\n",
    "    return temp_C + 273.15 # you don't have to define a variable called temp_K"
   ]
  },
  {
   "cell_type": "code",
   "execution_count": 18,
   "id": "25b3ff7d",
   "metadata": {},
   "outputs": [
    {
     "name": "stdout",
     "output_type": "stream",
     "text": [
      "freezing point of water in Kelvin: 273.15\n"
     ]
    }
   ],
   "source": [
    "print('freezing point of water in Kelvin:', celsius_to_kelvin(0))"
   ]
  },
  {
   "cell_type": "markdown",
   "id": "38a0c6ae",
   "metadata": {},
   "source": [
    "What about converting Fahrenheit to Kelvin? We could write out the formula, but we don’t need to. Instead, we can compose the two functions we have already created:"
   ]
  },
  {
   "cell_type": "code",
   "execution_count": 19,
   "id": "d1a440fb",
   "metadata": {},
   "outputs": [],
   "source": [
    "# Combine function to convert Fahrenheit to Kelvin\n",
    "def fahr_to_kelvin(temp_F):\n",
    "    temp_C = fahr_to_celsius(temp_F)\n",
    "    temp_K = celsius_to_kelvin(temp_C)\n",
    "    return temp_K"
   ]
  },
  {
   "cell_type": "code",
   "execution_count": 20,
   "id": "c4ae337f",
   "metadata": {},
   "outputs": [
    {
     "name": "stdout",
     "output_type": "stream",
     "text": [
      "boiling point of water in Kelvin: 373.15\n"
     ]
    }
   ],
   "source": [
    "print('boiling point of water in Kelvin:', fahr_to_kelvin(212))"
   ]
  },
  {
   "cell_type": "markdown",
   "id": "3d5d6568",
   "metadata": {},
   "source": [
    "This is our first taste of how larger programs are built: we define basic operations, then combine them in ever-larger chunks to get the effect we want. Real-life functions will usually be larger than the ones shown here — typically half a dozen to a few dozen lines — but they shouldn’t ever be much longer than that, or the next person who reads it (which can be yourself!) won’t be able to understand what’s going on. General guideline: a function should perform one task."
   ]
  },
  {
   "cell_type": "markdown",
   "id": "d395d2e7",
   "metadata": {},
   "source": [
    "### Variable scope"
   ]
  },
  {
   "cell_type": "markdown",
   "id": "e69f7bb0",
   "metadata": {},
   "source": [
    "In composing our temperature conversion functions, we created variables inside of those functions, temp, temp_c, temp_f, and temp_k. We refer to these variables as local variables because they no longer exist once the function is done executing. If we try to access their values outside of the function, we will encounter an error:"
   ]
  },
  {
   "cell_type": "code",
   "execution_count": 21,
   "id": "08cf972b",
   "metadata": {},
   "outputs": [
    {
     "ename": "NameError",
     "evalue": "name 'temp_K' is not defined",
     "output_type": "error",
     "traceback": [
      "\u001b[1;31m---------------------------------------------------------------------------\u001b[0m",
      "\u001b[1;31mNameError\u001b[0m                                 Traceback (most recent call last)",
      "Cell \u001b[1;32mIn[21], line 1\u001b[0m\n\u001b[1;32m----> 1\u001b[0m \u001b[38;5;28mprint\u001b[39m(\u001b[38;5;124m'\u001b[39m\u001b[38;5;124mAgain, temperature in Kelvin was:\u001b[39m\u001b[38;5;124m'\u001b[39m, \u001b[43mtemp_K\u001b[49m)\n",
      "\u001b[1;31mNameError\u001b[0m: name 'temp_K' is not defined"
     ]
    }
   ],
   "source": [
    "print('Again, temperature in Kelvin was:', temp_K)"
   ]
  },
  {
   "cell_type": "markdown",
   "id": "81a3a17d",
   "metadata": {},
   "source": [
    "If you want to reuse the temperature in Kelvin after you have calculated it with fahr_to_kelvin, you can store the result of the function call in a variable:"
   ]
  },
  {
   "cell_type": "code",
   "execution_count": 22,
   "id": "debd51d6",
   "metadata": {},
   "outputs": [
    {
     "name": "stdout",
     "output_type": "stream",
     "text": [
      "temperature in Kelvin was: 373.15\n"
     ]
    }
   ],
   "source": [
    "temp_kelvin = fahr_to_kelvin(212.0)\n",
    "print('temperature in Kelvin was:', temp_kelvin)"
   ]
  },
  {
   "cell_type": "markdown",
   "id": "898017db",
   "metadata": {},
   "source": [
    "### Optional: Defining defaults"
   ]
  },
  {
   "cell_type": "markdown",
   "id": "d656c79a",
   "metadata": {},
   "source": [
    "We have passed parameters to functions in two ways: directly, as in `type(data)`, and by name, as in `numpy.loadtxt(fname='something.csv', delimiter=',')`. In fact, we can pass the filename to `loadtxt` without the `fname=`:"
   ]
  },
  {
   "cell_type": "code",
   "execution_count": 23,
   "id": "c0beafcd",
   "metadata": {},
   "outputs": [
    {
     "data": {
      "text/plain": [
       "array([[0., 0., 1., ..., 3., 0., 0.],\n",
       "       [0., 1., 2., ..., 1., 0., 1.],\n",
       "       [0., 1., 1., ..., 2., 1., 1.],\n",
       "       ...,\n",
       "       [0., 1., 1., ..., 1., 1., 1.],\n",
       "       [0., 0., 0., ..., 0., 2., 0.],\n",
       "       [0., 0., 1., ..., 1., 1., 0.]])"
      ]
     },
     "execution_count": 23,
     "metadata": {},
     "output_type": "execute_result"
    }
   ],
   "source": [
    "numpy.loadtxt('data/inflammation-01.csv', delimiter=',')"
   ]
  },
  {
   "cell_type": "markdown",
   "id": "7771d806",
   "metadata": {},
   "source": [
    "but we still need to say `delimiter=`:"
   ]
  },
  {
   "cell_type": "code",
   "execution_count": 24,
   "id": "7e522f27",
   "metadata": {},
   "outputs": [
    {
     "ename": "SyntaxError",
     "evalue": "unexpected EOF while parsing (<unknown>, line 1)",
     "output_type": "error",
     "traceback": [
      "Traceback \u001b[1;36m(most recent call last)\u001b[0m:\n",
      "\u001b[0m  File \u001b[0;32m~\\Anaconda3\\lib\\site-packages\\IPython\\core\\interactiveshell.py:3433\u001b[0m in \u001b[0;35mrun_code\u001b[0m\n    exec(code_obj, self.user_global_ns, self.user_ns)\u001b[0m\n",
      "\u001b[0m  Cell \u001b[0;32mIn[24], line 1\u001b[0m\n    numpy.loadtxt('data/inflammation-01.csv', ',')\u001b[0m\n",
      "\u001b[0m  File \u001b[0;32m~\\Anaconda3\\lib\\site-packages\\numpy\\lib\\npyio.py:1313\u001b[0m in \u001b[0;35mloadtxt\u001b[0m\n    arr = _read(fname, dtype=dtype, comment=comment, delimiter=delimiter,\u001b[0m\n",
      "\u001b[0m  File \u001b[0;32m~\\Anaconda3\\lib\\site-packages\\numpy\\lib\\npyio.py:880\u001b[0m in \u001b[0;35m_read\u001b[0m\n    dtype = np.dtype(dtype)\u001b[0m\n",
      "\u001b[0m  File \u001b[0;32m~\\Anaconda3\\lib\\site-packages\\numpy\\core\\_internal.py:200\u001b[0m in \u001b[0;35m_commastring\u001b[0m\n    newitem = (dtype, ast.literal_eval(repeats))\u001b[0m\n",
      "\u001b[0m  File \u001b[0;32m~\\Anaconda3\\lib\\ast.py:59\u001b[0m in \u001b[0;35mliteral_eval\u001b[0m\n    node_or_string = parse(node_or_string, mode='eval')\u001b[0m\n",
      "\u001b[1;36m  File \u001b[1;32m~\\Anaconda3\\lib\\ast.py:47\u001b[1;36m in \u001b[1;35mparse\u001b[1;36m\n\u001b[1;33m    return compile(source, filename, mode, flags,\u001b[1;36m\n",
      "\u001b[1;36m  File \u001b[1;32m<unknown>:1\u001b[1;36m\u001b[0m\n\u001b[1;33m    ,\u001b[0m\n\u001b[1;37m    ^\u001b[0m\n\u001b[1;31mSyntaxError\u001b[0m\u001b[1;31m:\u001b[0m unexpected EOF while parsing\n"
     ]
    }
   ],
   "source": [
    "numpy.loadtxt('data/inflammation-01.csv', ',')"
   ]
  },
  {
   "cell_type": "code",
   "execution_count": 25,
   "id": "6b0748ec",
   "metadata": {},
   "outputs": [
    {
     "name": "stdout",
     "output_type": "stream",
     "text": [
      "Help on function loadtxt in module numpy:\n",
      "\n",
      "loadtxt(fname, dtype=<class 'float'>, comments='#', delimiter=None, converters=None, skiprows=0, usecols=None, unpack=False, ndmin=0, encoding='bytes', max_rows=None, *, quotechar=None, like=None)\n",
      "    Load data from a text file.\n",
      "    \n",
      "    Each row in the text file must have the same number of values.\n",
      "    \n",
      "    Parameters\n",
      "    ----------\n",
      "    fname : file, str, pathlib.Path, list of str, generator\n",
      "        File, filename, list, or generator to read.  If the filename\n",
      "        extension is ``.gz`` or ``.bz2``, the file is first decompressed. Note\n",
      "        that generators must return bytes or strings. The strings\n",
      "        in a list or produced by a generator are treated as lines.\n",
      "    dtype : data-type, optional\n",
      "        Data-type of the resulting array; default: float.  If this is a\n",
      "        structured data-type, the resulting array will be 1-dimensional, and\n",
      "        each row will be interpreted as an element of the array.  In this\n",
      "        case, the number of columns used must match the number of fields in\n",
      "        the data-type.\n",
      "    comments : str or sequence of str or None, optional\n",
      "        The characters or list of characters used to indicate the start of a\n",
      "        comment. None implies no comments. For backwards compatibility, byte\n",
      "        strings will be decoded as 'latin1'. The default is '#'.\n",
      "    delimiter : str, optional\n",
      "        The string used to separate values. For backwards compatibility, byte\n",
      "        strings will be decoded as 'latin1'. The default is whitespace.\n",
      "    converters : dict or callable, optional\n",
      "        A function to parse all columns strings into the desired value, or\n",
      "        a dictionary mapping column number to a parser function.\n",
      "        E.g. if column 0 is a date string: ``converters = {0: datestr2num}``.\n",
      "        Converters can also be used to provide a default value for missing\n",
      "        data, e.g. ``converters = lambda s: float(s.strip() or 0)`` will\n",
      "        convert empty fields to 0.\n",
      "        Default: None.\n",
      "    \n",
      "        .. versionchanged:: 1.23.0\n",
      "           The ability to pass a single callable to be applied to all columns\n",
      "           was added.\n",
      "    \n",
      "    skiprows : int, optional\n",
      "        Skip the first `skiprows` lines, including comments; default: 0.\n",
      "    usecols : int or sequence, optional\n",
      "        Which columns to read, with 0 being the first. For example,\n",
      "        ``usecols = (1,4,5)`` will extract the 2nd, 5th and 6th columns.\n",
      "        The default, None, results in all columns being read.\n",
      "    \n",
      "        .. versionchanged:: 1.11.0\n",
      "            When a single column has to be read it is possible to use\n",
      "            an integer instead of a tuple. E.g ``usecols = 3`` reads the\n",
      "            fourth column the same way as ``usecols = (3,)`` would.\n",
      "    unpack : bool, optional\n",
      "        If True, the returned array is transposed, so that arguments may be\n",
      "        unpacked using ``x, y, z = loadtxt(...)``.  When used with a\n",
      "        structured data-type, arrays are returned for each field.\n",
      "        Default is False.\n",
      "    ndmin : int, optional\n",
      "        The returned array will have at least `ndmin` dimensions.\n",
      "        Otherwise mono-dimensional axes will be squeezed.\n",
      "        Legal values: 0 (default), 1 or 2.\n",
      "    \n",
      "        .. versionadded:: 1.6.0\n",
      "    encoding : str, optional\n",
      "        Encoding used to decode the inputfile. Does not apply to input streams.\n",
      "        The special value 'bytes' enables backward compatibility workarounds\n",
      "        that ensures you receive byte arrays as results if possible and passes\n",
      "        'latin1' encoded strings to converters. Override this value to receive\n",
      "        unicode arrays and pass strings as input to converters.  If set to None\n",
      "        the system default is used. The default value is 'bytes'.\n",
      "    \n",
      "        .. versionadded:: 1.14.0\n",
      "    max_rows : int, optional\n",
      "        Read `max_rows` rows of content after `skiprows` lines. The default is\n",
      "        to read all the rows. Note that empty rows containing no data such as\n",
      "        empty lines and comment lines are not counted towards `max_rows`,\n",
      "        while such lines are counted in `skiprows`.\n",
      "    \n",
      "        .. versionadded:: 1.16.0\n",
      "        \n",
      "        .. versionchanged:: 1.23.0\n",
      "            Lines containing no data, including comment lines (e.g., lines \n",
      "            starting with '#' or as specified via `comments`) are not counted \n",
      "            towards `max_rows`.\n",
      "    quotechar : unicode character or None, optional\n",
      "        The character used to denote the start and end of a quoted item.\n",
      "        Occurrences of the delimiter or comment characters are ignored within\n",
      "        a quoted item. The default value is ``quotechar=None``, which means\n",
      "        quoting support is disabled.\n",
      "    \n",
      "        If two consecutive instances of `quotechar` are found within a quoted\n",
      "        field, the first is treated as an escape character. See examples.\n",
      "    \n",
      "        .. versionadded:: 1.23.0\n",
      "    like : array_like, optional\n",
      "        Reference object to allow the creation of arrays which are not\n",
      "        NumPy arrays. If an array-like passed in as ``like`` supports\n",
      "        the ``__array_function__`` protocol, the result will be defined\n",
      "        by it. In this case, it ensures the creation of an array object\n",
      "        compatible with that passed in via this argument.\n",
      "    \n",
      "        .. versionadded:: 1.20.0\n",
      "    \n",
      "    Returns\n",
      "    -------\n",
      "    out : ndarray\n",
      "        Data read from the text file.\n",
      "    \n",
      "    See Also\n",
      "    --------\n",
      "    load, fromstring, fromregex\n",
      "    genfromtxt : Load data with missing values handled as specified.\n",
      "    scipy.io.loadmat : reads MATLAB data files\n",
      "    \n",
      "    Notes\n",
      "    -----\n",
      "    This function aims to be a fast reader for simply formatted files.  The\n",
      "    `genfromtxt` function provides more sophisticated handling of, e.g.,\n",
      "    lines with missing values.\n",
      "    \n",
      "    .. versionadded:: 1.10.0\n",
      "    \n",
      "    The strings produced by the Python float.hex method can be used as\n",
      "    input for floats.\n",
      "    \n",
      "    Examples\n",
      "    --------\n",
      "    >>> from io import StringIO   # StringIO behaves like a file object\n",
      "    >>> c = StringIO(\"0 1\\n2 3\")\n",
      "    >>> np.loadtxt(c)\n",
      "    array([[0., 1.],\n",
      "           [2., 3.]])\n",
      "    \n",
      "    >>> d = StringIO(\"M 21 72\\nF 35 58\")\n",
      "    >>> np.loadtxt(d, dtype={'names': ('gender', 'age', 'weight'),\n",
      "    ...                      'formats': ('S1', 'i4', 'f4')})\n",
      "    array([(b'M', 21, 72.), (b'F', 35, 58.)],\n",
      "          dtype=[('gender', 'S1'), ('age', '<i4'), ('weight', '<f4')])\n",
      "    \n",
      "    >>> c = StringIO(\"1,0,2\\n3,0,4\")\n",
      "    >>> x, y = np.loadtxt(c, delimiter=',', usecols=(0, 2), unpack=True)\n",
      "    >>> x\n",
      "    array([1., 3.])\n",
      "    >>> y\n",
      "    array([2., 4.])\n",
      "    \n",
      "    The `converters` argument is used to specify functions to preprocess the\n",
      "    text prior to parsing. `converters` can be a dictionary that maps\n",
      "    preprocessing functions to each column:\n",
      "    \n",
      "    >>> s = StringIO(\"1.618, 2.296\\n3.141, 4.669\\n\")\n",
      "    >>> conv = {\n",
      "    ...     0: lambda x: np.floor(float(x)),  # conversion fn for column 0\n",
      "    ...     1: lambda x: np.ceil(float(x)),  # conversion fn for column 1\n",
      "    ... }\n",
      "    >>> np.loadtxt(s, delimiter=\",\", converters=conv)\n",
      "    array([[1., 3.],\n",
      "           [3., 5.]])\n",
      "    \n",
      "    `converters` can be a callable instead of a dictionary, in which case it\n",
      "    is applied to all columns:\n",
      "    \n",
      "    >>> s = StringIO(\"0xDE 0xAD\\n0xC0 0xDE\")\n",
      "    >>> import functools\n",
      "    >>> conv = functools.partial(int, base=16)\n",
      "    >>> np.loadtxt(s, converters=conv)\n",
      "    array([[222., 173.],\n",
      "           [192., 222.]])\n",
      "    \n",
      "    This example shows how `converters` can be used to convert a field\n",
      "    with a trailing minus sign into a negative number.\n",
      "    \n",
      "    >>> s = StringIO('10.01 31.25-\\n19.22 64.31\\n17.57- 63.94')\n",
      "    >>> def conv(fld):\n",
      "    ...     return -float(fld[:-1]) if fld.endswith(b'-') else float(fld)\n",
      "    ...\n",
      "    >>> np.loadtxt(s, converters=conv)\n",
      "    array([[ 10.01, -31.25],\n",
      "           [ 19.22,  64.31],\n",
      "           [-17.57,  63.94]])\n",
      "    \n",
      "    Using a callable as the converter can be particularly useful for handling\n",
      "    values with different formatting, e.g. floats with underscores:\n",
      "    \n",
      "    >>> s = StringIO(\"1 2.7 100_000\")\n",
      "    >>> np.loadtxt(s, converters=float)\n",
      "    array([1.e+00, 2.7e+00, 1.e+05])\n",
      "    \n",
      "    This idea can be extended to automatically handle values specified in\n",
      "    many different formats:\n",
      "    \n",
      "    >>> def conv(val):\n",
      "    ...     try:\n",
      "    ...         return float(val)\n",
      "    ...     except ValueError:\n",
      "    ...         return float.fromhex(val)\n",
      "    >>> s = StringIO(\"1, 2.5, 3_000, 0b4, 0x1.4000000000000p+2\")\n",
      "    >>> np.loadtxt(s, delimiter=\",\", converters=conv, encoding=None)\n",
      "    array([1.0e+00, 2.5e+00, 3.0e+03, 1.8e+02, 5.0e+00])\n",
      "    \n",
      "    Note that with the default ``encoding=\"bytes\"``, the inputs to the\n",
      "    converter function are latin-1 encoded byte strings. To deactivate the\n",
      "    implicit encoding prior to conversion, use ``encoding=None``\n",
      "    \n",
      "    >>> s = StringIO('10.01 31.25-\\n19.22 64.31\\n17.57- 63.94')\n",
      "    >>> conv = lambda x: -float(x[:-1]) if x.endswith('-') else float(x)\n",
      "    >>> np.loadtxt(s, converters=conv, encoding=None)\n",
      "    array([[ 10.01, -31.25],\n",
      "           [ 19.22,  64.31],\n",
      "           [-17.57,  63.94]])\n",
      "    \n",
      "    Support for quoted fields is enabled with the `quotechar` parameter.\n",
      "    Comment and delimiter characters are ignored when they appear within a\n",
      "    quoted item delineated by `quotechar`:\n",
      "    \n",
      "    >>> s = StringIO('\"alpha, #42\", 10.0\\n\"beta, #64\", 2.0\\n')\n",
      "    >>> dtype = np.dtype([(\"label\", \"U12\"), (\"value\", float)])\n",
      "    >>> np.loadtxt(s, dtype=dtype, delimiter=\",\", quotechar='\"')\n",
      "    array([('alpha, #42', 10.), ('beta, #64',  2.)],\n",
      "          dtype=[('label', '<U12'), ('value', '<f8')])\n",
      "    \n",
      "    Two consecutive quote characters within a quoted field are treated as a\n",
      "    single escaped character:\n",
      "    \n",
      "    >>> s = StringIO('\"Hello, my name is \"\"Monty\"\"!\"')\n",
      "    >>> np.loadtxt(s, dtype=\"U\", delimiter=\",\", quotechar='\"')\n",
      "    array('Hello, my name is \"Monty\"!', dtype='<U26')\n",
      "\n"
     ]
    }
   ],
   "source": [
    "help(numpy.loadtxt)"
   ]
  },
  {
   "cell_type": "markdown",
   "id": "dbcf90af",
   "metadata": {},
   "source": [
    "Optional arguments with defaults are handy: if we usually want a function to work one way, but occasionally need it to do something else, we can allow people to pass a parameter when they need to but provide a default to make the normal case easier. The example below shows how Python matches values to parameters:"
   ]
  },
  {
   "cell_type": "code",
   "execution_count": 26,
   "id": "699bc46f",
   "metadata": {},
   "outputs": [
    {
     "name": "stdout",
     "output_type": "stream",
     "text": [
      "no parameters:\n",
      "a: 1 b: 2 c: 3\n",
      "one parameter:\n",
      "a: 55 b: 2 c: 3\n",
      "two parameters:\n",
      "a: 55 b: 66 c: 3\n"
     ]
    }
   ],
   "source": [
    "def display_num(a=1, b=2, c=3):\n",
    "    print('a:', a, 'b:', b, 'c:', c)\n",
    "\n",
    "print('no parameters:')\n",
    "display_num()\n",
    "print('one parameter:')\n",
    "display_num(55)\n",
    "print('two parameters:')\n",
    "display_num(55, 66)\n"
   ]
  },
  {
   "cell_type": "markdown",
   "id": "536215b1",
   "metadata": {},
   "source": [
    "As this example shows, parameters are matched up from left to right, and any that haven’t been given a value explicitly get their default value. We can override this behavior by naming the value as we pass it in:"
   ]
  },
  {
   "cell_type": "code",
   "execution_count": 27,
   "id": "ec23b7c9",
   "metadata": {},
   "outputs": [
    {
     "name": "stdout",
     "output_type": "stream",
     "text": [
      "only setting the value of c\n",
      "a: 1 b: 2 c: 77\n"
     ]
    }
   ],
   "source": [
    "print('only setting the value of c')\n",
    "display_num(c=77)"
   ]
  },
  {
   "cell_type": "code",
   "execution_count": 28,
   "id": "9ee82d09",
   "metadata": {},
   "outputs": [],
   "source": [
    "# Adding a docstring\n",
    "def display_number(a=1, b=2, c=3):\n",
    "    ''' This is an example docstring\n",
    "    \n",
    "    \n",
    "    '''\n",
    "    print('a:', a, 'b', b, 'c', c)"
   ]
  },
  {
   "cell_type": "code",
   "execution_count": 29,
   "id": "1662a58b",
   "metadata": {},
   "outputs": [
    {
     "name": "stdout",
     "output_type": "stream",
     "text": [
      "Help on function display_number in module __main__:\n",
      "\n",
      "display_number(a=1, b=2, c=3)\n",
      "    This is an example docstring\n",
      "\n"
     ]
    }
   ],
   "source": [
    "help(display_number)"
   ]
  },
  {
   "cell_type": "markdown",
   "id": "e821a8e3",
   "metadata": {},
   "source": [
    "# Modular Code\n",
    "\n",
    "1. Update `inflammation_analysis.ipynb` by introducing functions\n",
    "2. Create a new script called `processing.py` and copy the functions there\n",
    "3. Create a new file called `inflammation_analysis_refactored.ipynb` and import our functions to run the analysis"
   ]
  },
  {
   "cell_type": "markdown",
   "id": "748a1461",
   "metadata": {},
   "source": [
    "### Add docstrings\n",
    "\n",
    "We should also write a docstring at the beginning of our function. This is a special type of comment that explains what the function does, what arguments it takes, and what it returns."
   ]
  },
  {
   "cell_type": "markdown",
   "id": "c622019d",
   "metadata": {},
   "source": [
    "# 7. Errors and Exceptions\n",
    "\n",
    "Every programmer encounters errors, both those who are just beginning, and those who have been programming for years. Encountering errors and exceptions can be very frustrating at times, and can make coding feel like a hopeless endeavour. However, understanding what the different types of errors are and when you are likely to encounter them can help a lot. Once you know why you get certain types of errors, they become much easier to fix."
   ]
  },
  {
   "cell_type": "code",
   "execution_count": 30,
   "id": "6ff6d820",
   "metadata": {},
   "outputs": [
    {
     "ename": "IndexError",
     "evalue": "list index out of range",
     "output_type": "error",
     "traceback": [
      "\u001b[1;31m---------------------------------------------------------------------------\u001b[0m",
      "\u001b[1;31mIndexError\u001b[0m                                Traceback (most recent call last)",
      "Cell \u001b[1;32mIn[30], line 9\u001b[0m\n\u001b[0;32m      2\u001b[0m     ice_creams \u001b[38;5;241m=\u001b[39m [\n\u001b[0;32m      3\u001b[0m         \u001b[38;5;124m'\u001b[39m\u001b[38;5;124mchocolate\u001b[39m\u001b[38;5;124m'\u001b[39m, \n\u001b[0;32m      4\u001b[0m         \u001b[38;5;124m'\u001b[39m\u001b[38;5;124mvanilla\u001b[39m\u001b[38;5;124m'\u001b[39m,\n\u001b[0;32m      5\u001b[0m         \u001b[38;5;124m'\u001b[39m\u001b[38;5;124mstrawberry\u001b[39m\u001b[38;5;124m'\u001b[39m\n\u001b[0;32m      6\u001b[0m     ]\n\u001b[0;32m      7\u001b[0m     \u001b[38;5;28mprint\u001b[39m(ice_creams[\u001b[38;5;241m3\u001b[39m])\n\u001b[1;32m----> 9\u001b[0m \u001b[43mfavorite_ice_cream\u001b[49m\u001b[43m(\u001b[49m\u001b[43m)\u001b[49m\n",
      "Cell \u001b[1;32mIn[30], line 7\u001b[0m, in \u001b[0;36mfavorite_ice_cream\u001b[1;34m()\u001b[0m\n\u001b[0;32m      1\u001b[0m \u001b[38;5;28;01mdef\u001b[39;00m \u001b[38;5;21mfavorite_ice_cream\u001b[39m():\n\u001b[0;32m      2\u001b[0m     ice_creams \u001b[38;5;241m=\u001b[39m [\n\u001b[0;32m      3\u001b[0m         \u001b[38;5;124m'\u001b[39m\u001b[38;5;124mchocolate\u001b[39m\u001b[38;5;124m'\u001b[39m, \n\u001b[0;32m      4\u001b[0m         \u001b[38;5;124m'\u001b[39m\u001b[38;5;124mvanilla\u001b[39m\u001b[38;5;124m'\u001b[39m,\n\u001b[0;32m      5\u001b[0m         \u001b[38;5;124m'\u001b[39m\u001b[38;5;124mstrawberry\u001b[39m\u001b[38;5;124m'\u001b[39m\n\u001b[0;32m      6\u001b[0m     ]\n\u001b[1;32m----> 7\u001b[0m     \u001b[38;5;28mprint\u001b[39m(\u001b[43mice_creams\u001b[49m\u001b[43m[\u001b[49m\u001b[38;5;241;43m3\u001b[39;49m\u001b[43m]\u001b[49m)\n",
      "\u001b[1;31mIndexError\u001b[0m: list index out of range"
     ]
    }
   ],
   "source": [
    "def favorite_ice_cream():\n",
    "    ice_creams = [\n",
    "        'chocolate', \n",
    "        'vanilla',\n",
    "        'strawberry'\n",
    "    ]\n",
    "    print(ice_creams[3])\n",
    "    \n",
    "favorite_ice_cream()"
   ]
  },
  {
   "cell_type": "markdown",
   "id": "5b7de0c4",
   "metadata": {},
   "source": [
    "This particular traceback has two levels. You can determine the number of levels by looking for the number of arrows on the left hand side. In this case:\n",
    "\n",
    "1. The first shows code from the cell above, with an arrow pointing to Line 11 (which is `favorite_ice_cream()`).\n",
    "\n",
    "2. The second shows some code in the function favorite_ice_cream, with an arrow pointing to Line 9 (which is `print(ice_creams[3])`).\n",
    "\n",
    "The last level is the actual place where the error occurred. The other level(s) show what function the program executed to get to the next level down. So, in this case, the program first performed a function call to the function favorite_ice_cream. Inside this function, the program encountered an error on Line 6, when it tried to run the code `print(ice_creams[3])`."
   ]
  },
  {
   "cell_type": "code",
   "execution_count": 31,
   "id": "5d068243",
   "metadata": {},
   "outputs": [
    {
     "ename": "SyntaxError",
     "evalue": "invalid syntax (826306346.py, line 2)",
     "output_type": "error",
     "traceback": [
      "\u001b[1;36m  Cell \u001b[1;32mIn[31], line 2\u001b[1;36m\u001b[0m\n\u001b[1;33m    def some_function()\u001b[0m\n\u001b[1;37m                       ^\u001b[0m\n\u001b[1;31mSyntaxError\u001b[0m\u001b[1;31m:\u001b[0m invalid syntax\n"
     ]
    }
   ],
   "source": [
    "# SyntaxError\n",
    "def some_function()\n",
    "    msg = 'hello, world'\n",
    "    assert len(msg) => 3\n",
    "    print(msg)\n",
    "     return msg"
   ]
  },
  {
   "cell_type": "code",
   "execution_count": 32,
   "id": "278402ba",
   "metadata": {},
   "outputs": [
    {
     "ename": "NameError",
     "evalue": "name 'aa' is not defined",
     "output_type": "error",
     "traceback": [
      "\u001b[1;31m---------------------------------------------------------------------------\u001b[0m",
      "\u001b[1;31mNameError\u001b[0m                                 Traceback (most recent call last)",
      "Cell \u001b[1;32mIn[32], line 2\u001b[0m\n\u001b[0;32m      1\u001b[0m \u001b[38;5;66;03m# NameError\u001b[39;00m\n\u001b[1;32m----> 2\u001b[0m \u001b[38;5;28mprint\u001b[39m(\u001b[43maa\u001b[49m)\n",
      "\u001b[1;31mNameError\u001b[0m: name 'aa' is not defined"
     ]
    }
   ],
   "source": [
    "# NameError\n",
    "print(aa)"
   ]
  },
  {
   "cell_type": "code",
   "execution_count": 33,
   "id": "201444d9",
   "metadata": {},
   "outputs": [
    {
     "ename": "TypeError",
     "evalue": "can only concatenate str (not \"int\") to str",
     "output_type": "error",
     "traceback": [
      "\u001b[1;31m---------------------------------------------------------------------------\u001b[0m",
      "\u001b[1;31mTypeError\u001b[0m                                 Traceback (most recent call last)",
      "Cell \u001b[1;32mIn[33], line 3\u001b[0m\n\u001b[0;32m      1\u001b[0m \u001b[38;5;66;03m# TypeError\u001b[39;00m\n\u001b[0;32m      2\u001b[0m number \u001b[38;5;241m=\u001b[39m \u001b[38;5;124m'\u001b[39m\u001b[38;5;124mone\u001b[39m\u001b[38;5;124m'\u001b[39m\n\u001b[1;32m----> 3\u001b[0m sum_values \u001b[38;5;241m=\u001b[39m \u001b[43mnumber\u001b[49m\u001b[43m \u001b[49m\u001b[38;5;241;43m+\u001b[39;49m\u001b[43m \u001b[49m\u001b[38;5;241;43m1\u001b[39;49m\n",
      "\u001b[1;31mTypeError\u001b[0m: can only concatenate str (not \"int\") to str"
     ]
    }
   ],
   "source": [
    "# TypeError\n",
    "number = 'one'\n",
    "sum_values = number + 1"
   ]
  },
  {
   "cell_type": "code",
   "execution_count": 38,
   "id": "abc896b3",
   "metadata": {},
   "outputs": [
    {
     "ename": "FileNotFoundError",
     "evalue": "[Errno 2] No such file or directory: 'inflammation-13.csv'",
     "output_type": "error",
     "traceback": [
      "\u001b[1;31m---------------------------------------------------------------------------\u001b[0m",
      "\u001b[1;31mFileNotFoundError\u001b[0m                         Traceback (most recent call last)",
      "Cell \u001b[1;32mIn[38], line 2\u001b[0m\n\u001b[0;32m      1\u001b[0m \u001b[38;5;66;03m# File errors\u001b[39;00m\n\u001b[1;32m----> 2\u001b[0m file \u001b[38;5;241m=\u001b[39m \u001b[38;5;28;43mopen\u001b[39;49m\u001b[43m(\u001b[49m\u001b[38;5;124;43m'\u001b[39;49m\u001b[38;5;124;43minflammation-13.csv\u001b[39;49m\u001b[38;5;124;43m'\u001b[39;49m\u001b[43m)\u001b[49m\n",
      "File \u001b[1;32m~\\Anaconda3\\lib\\site-packages\\IPython\\core\\interactiveshell.py:282\u001b[0m, in \u001b[0;36m_modified_open\u001b[1;34m(file, *args, **kwargs)\u001b[0m\n\u001b[0;32m    275\u001b[0m \u001b[38;5;28;01mif\u001b[39;00m file \u001b[38;5;129;01min\u001b[39;00m {\u001b[38;5;241m0\u001b[39m, \u001b[38;5;241m1\u001b[39m, \u001b[38;5;241m2\u001b[39m}:\n\u001b[0;32m    276\u001b[0m     \u001b[38;5;28;01mraise\u001b[39;00m \u001b[38;5;167;01mValueError\u001b[39;00m(\n\u001b[0;32m    277\u001b[0m         \u001b[38;5;124mf\u001b[39m\u001b[38;5;124m\"\u001b[39m\u001b[38;5;124mIPython won\u001b[39m\u001b[38;5;124m'\u001b[39m\u001b[38;5;124mt let you open fd=\u001b[39m\u001b[38;5;132;01m{\u001b[39;00mfile\u001b[38;5;132;01m}\u001b[39;00m\u001b[38;5;124m by default \u001b[39m\u001b[38;5;124m\"\u001b[39m\n\u001b[0;32m    278\u001b[0m         \u001b[38;5;124m\"\u001b[39m\u001b[38;5;124mas it is likely to crash IPython. If you know what you are doing, \u001b[39m\u001b[38;5;124m\"\u001b[39m\n\u001b[0;32m    279\u001b[0m         \u001b[38;5;124m\"\u001b[39m\u001b[38;5;124myou can use builtins\u001b[39m\u001b[38;5;124m'\u001b[39m\u001b[38;5;124m open.\u001b[39m\u001b[38;5;124m\"\u001b[39m\n\u001b[0;32m    280\u001b[0m     )\n\u001b[1;32m--> 282\u001b[0m \u001b[38;5;28;01mreturn\u001b[39;00m \u001b[43mio_open\u001b[49m\u001b[43m(\u001b[49m\u001b[43mfile\u001b[49m\u001b[43m,\u001b[49m\u001b[43m \u001b[49m\u001b[38;5;241;43m*\u001b[39;49m\u001b[43margs\u001b[49m\u001b[43m,\u001b[49m\u001b[43m \u001b[49m\u001b[38;5;241;43m*\u001b[39;49m\u001b[38;5;241;43m*\u001b[39;49m\u001b[43mkwargs\u001b[49m\u001b[43m)\u001b[49m\n",
      "\u001b[1;31mFileNotFoundError\u001b[0m: [Errno 2] No such file or directory: 'inflammation-13.csv'"
     ]
    }
   ],
   "source": [
    "# File errors\n",
    "file = open('inflammation-13.csv')"
   ]
  },
  {
   "cell_type": "markdown",
   "id": "f4211fc1",
   "metadata": {},
   "source": [
    "# 8. Defensive programming\n",
    "\n",
    "The previous lessons have introduced the basic tools of programming: variables and lists, file I/O, loops, conditionals, and functions. What they haven’t done is show us how to tell whether a program is getting the right answer, and how to tell if it’s still getting the right answer as we make changes to it.\n",
    "\n",
    "With that, I have some bad news for you: You will make mistakes! However, with that fact also comes knowledge. The first step toward getting the right answers from our programs is to assume that mistakes will happen and to guard against them. \n",
    "\n",
    "This is called defensive programming, and the most common way to do it is to add **assertions** to our code so that it checks itself as it runs. An assertion is simply a statement that something must be true at a certain point in a program. When Python sees one, it evaluates the assertion’s condition. If it’s true, Python does nothing, but if it’s false, Python halts the program immediately and prints the error message if one is provided. For example, this piece of code halts as soon as the loop encounters a value that isn’t positive:"
   ]
  },
  {
   "cell_type": "code",
   "execution_count": 35,
   "id": "453b756d",
   "metadata": {},
   "outputs": [
    {
     "ename": "AssertionError",
     "evalue": "0 should be smaller than 1",
     "output_type": "error",
     "traceback": [
      "\u001b[1;31m---------------------------------------------------------------------------\u001b[0m",
      "\u001b[1;31mAssertionError\u001b[0m                            Traceback (most recent call last)",
      "Cell \u001b[1;32mIn[35], line 2\u001b[0m\n\u001b[0;32m      1\u001b[0m \u001b[38;5;66;03m# Some example assertions\u001b[39;00m\n\u001b[1;32m----> 2\u001b[0m \u001b[38;5;28;01massert\u001b[39;00m \u001b[38;5;241m0\u001b[39m \u001b[38;5;241m>\u001b[39m \u001b[38;5;241m1\u001b[39m, \u001b[38;5;124m\"\u001b[39m\u001b[38;5;124m0 should be smaller than 1\u001b[39m\u001b[38;5;124m\"\u001b[39m\n",
      "\u001b[1;31mAssertionError\u001b[0m: 0 should be smaller than 1"
     ]
    }
   ],
   "source": [
    "# Some example assertions\n",
    "assert 0 > 1, \"0 should be smaller than 1\""
   ]
  },
  {
   "cell_type": "code",
   "execution_count": 36,
   "id": "f39a3277",
   "metadata": {},
   "outputs": [
    {
     "ename": "AssertionError",
     "evalue": "Data should only contain positive values",
     "output_type": "error",
     "traceback": [
      "\u001b[1;31m---------------------------------------------------------------------------\u001b[0m",
      "\u001b[1;31mAssertionError\u001b[0m                            Traceback (most recent call last)",
      "Cell \u001b[1;32mIn[36], line 5\u001b[0m\n\u001b[0;32m      3\u001b[0m total \u001b[38;5;241m=\u001b[39m \u001b[38;5;241m0\u001b[39m\n\u001b[0;32m      4\u001b[0m \u001b[38;5;28;01mfor\u001b[39;00m num \u001b[38;5;129;01min\u001b[39;00m numbers:\n\u001b[1;32m----> 5\u001b[0m     \u001b[38;5;28;01massert\u001b[39;00m num \u001b[38;5;241m>\u001b[39m \u001b[38;5;241m0\u001b[39m, \u001b[38;5;124m'\u001b[39m\u001b[38;5;124mData should only contain positive values\u001b[39m\u001b[38;5;124m'\u001b[39m\n\u001b[0;32m      6\u001b[0m     total \u001b[38;5;241m=\u001b[39m total \u001b[38;5;241m+\u001b[39m num\n\u001b[0;32m      7\u001b[0m \u001b[38;5;28mprint\u001b[39m(\u001b[38;5;124m'\u001b[39m\u001b[38;5;124mtotal is\u001b[39m\u001b[38;5;124m'\u001b[39m, total)\n",
      "\u001b[1;31mAssertionError\u001b[0m: Data should only contain positive values"
     ]
    }
   ],
   "source": [
    "# Calculate sum of positive numbers\n",
    "numbers = [1.5, 2.3, 0.7, -0.1, 4.4]\n",
    "total = 0\n",
    "for num in numbers:\n",
    "    assert num > 0, 'Data should only contain positive values'\n",
    "    total = total + num\n",
    "print('total is', total)"
   ]
  },
  {
   "cell_type": "markdown",
   "id": "14a2fc9b",
   "metadata": {},
   "source": [
    "### What should we test in our analysis?\n",
    "\n",
    "- Are the data loaded correctly?\n",
    "- Are the data within the expected range?"
   ]
  },
  {
   "cell_type": "code",
   "execution_count": 37,
   "id": "2162d4e8",
   "metadata": {},
   "outputs": [
    {
     "name": "stdout",
     "output_type": "stream",
     "text": [
      "[1 1]\n",
      "[]\n",
      "2\n",
      "0\n"
     ]
    }
   ],
   "source": [
    "import numpy\n",
    "\n",
    "array = numpy.array([1, 1])\n",
    "empty_array = numpy.array([])\n",
    "\n",
    "print(array)\n",
    "print(empty_array)\n",
    "\n",
    "print(array.size)\n",
    "print(empty_array.size)\n",
    "\n",
    "assert array.size > 0, 'Expected non-empty array'\n",
    "assert empty_array.size == 0, 'Expected non-empty array'"
   ]
  },
  {
   "cell_type": "markdown",
   "id": "023bb736",
   "metadata": {},
   "source": [
    "### Go to inflammation_analysis.ipynb for defensive programming\n",
    "\n",
    "Write a function `detect_problems_defensive()` that adds pre- and post-conditions"
   ]
  }
 ],
 "metadata": {
  "kernelspec": {
   "display_name": "Python 3 (ipykernel)",
   "language": "python",
   "name": "python3"
  },
  "language_info": {
   "codemirror_mode": {
    "name": "ipython",
    "version": 3
   },
   "file_extension": ".py",
   "mimetype": "text/x-python",
   "name": "python",
   "nbconvert_exporter": "python",
   "pygments_lexer": "ipython3",
   "version": "3.8.18"
  },
  "vscode": {
   "interpreter": {
    "hash": "5a11b7c9854c3485c90a91dd291a32967ac653787e59cc20a3822f9dc1ec1fc1"
   }
  }
 },
 "nbformat": 4,
 "nbformat_minor": 5
}
